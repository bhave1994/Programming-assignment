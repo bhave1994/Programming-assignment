{
 "cells": [
  {
   "cell_type": "markdown",
   "metadata": {},
   "source": [
    "1. Write a Python program to convert kilometers to miles?\n",
    "2. Write a Python program to convert Celsius to Fahrenheit?\n",
    "3. Write a Python program to display calendar?\n",
    "4. Write a Python program to solve quadratic equation?\n",
    "5. Write a Python program to swap two variables without temp variable?"
   ]
  },
  {
   "cell_type": "code",
   "execution_count": 8,
   "metadata": {},
   "outputs": [
    {
     "name": "stdout",
     "output_type": "stream",
     "text": [
      "The miles obtained after convertion is 27.961695\n"
     ]
    }
   ],
   "source": [
    "#1\n",
    "def miles(kilometres):    \n",
    "    miles=kilometres*0.621371\n",
    "    print(\"The miles obtained after convertion is\",miles)\n",
    "miles(45)    "
   ]
  },
  {
   "cell_type": "code",
   "execution_count": 10,
   "metadata": {},
   "outputs": [
    {
     "name": "stdout",
     "output_type": "stream",
     "text": [
      "The Fahrenheit obtained on conversion 122.0\n"
     ]
    }
   ],
   "source": [
    "#2\n",
    "def celsius(celsius):\n",
    "    Fahrenheit=(celsius*9/5)+32\n",
    "    print(\"The Fahrenheit obtained on conversion\",Fahrenheit)\n",
    "celsius(50)"
   ]
  },
  {
   "cell_type": "code",
   "execution_count": 20,
   "metadata": {},
   "outputs": [
    {
     "name": "stdout",
     "output_type": "stream",
     "text": [
      "Enter the year1990\n",
      "Enter the month11\n",
      "   November 1990\n",
      "Mo Tu We Th Fr Sa Su\n",
      "          1  2  3  4\n",
      " 5  6  7  8  9 10 11\n",
      "12 13 14 15 16 17 18\n",
      "19 20 21 22 23 24 25\n",
      "26 27 28 29 30\n",
      "\n"
     ]
    }
   ],
   "source": [
    "#3\n",
    "\n",
    "import calendar\n",
    "\n",
    "year = int(input(\"Enter the year\"))  # year\n",
    "month = int(input(\"Enter the month\"))    # month\n",
    "\n",
    "# display the calendar\n",
    "print(calendar.month(year,month))"
   ]
  },
  {
   "cell_type": "code",
   "execution_count": 2,
   "metadata": {},
   "outputs": [
    {
     "name": "stdout",
     "output_type": "stream",
     "text": [
      "The solution are (-4+0j) and (-1.5+0j)\n"
     ]
    }
   ],
   "source": [
    "#4\n",
    "import cmath\n",
    "def quadratic_equations(a,b,c):\n",
    "    #calculating the discriminant for denominator..\n",
    "    \n",
    "    d=b**2-(4*a*c)\n",
    "    \n",
    "    # find two solutions\n",
    "    solution1 = (-b-cmath.sqrt(d))/(2*a)\n",
    "    solution2 = (-b+cmath.sqrt(d))/(2*a)\n",
    "\n",
    "    print('The solution are {0} and {1}'.format(solution1,solution2))\n",
    "    \n",
    "    \n",
    "quadratic_equations(1.0,5.5,6)    \n",
    "    \n",
    "    "
   ]
  },
  {
   "cell_type": "code",
   "execution_count": 6,
   "metadata": {},
   "outputs": [
    {
     "name": "stdout",
     "output_type": "stream",
     "text": [
      "before swaping values of a and b are 10 15\n",
      "After swaping the values 15 10\n"
     ]
    }
   ],
   "source": [
    "#5.\n",
    "a=10\n",
    "b=15\n",
    "print(\"before swaping values of a and b are\",a,b)\n",
    "a,b=b,a\n",
    "print(\"After swaping the values\",a,b)\n"
   ]
  }
 ],
 "metadata": {
  "kernelspec": {
   "display_name": "Python 3",
   "language": "python",
   "name": "python3"
  },
  "language_info": {
   "codemirror_mode": {
    "name": "ipython",
    "version": 3
   },
   "file_extension": ".py",
   "mimetype": "text/x-python",
   "name": "python",
   "nbconvert_exporter": "python",
   "pygments_lexer": "ipython3",
   "version": "3.8.5"
  }
 },
 "nbformat": 4,
 "nbformat_minor": 4
}
