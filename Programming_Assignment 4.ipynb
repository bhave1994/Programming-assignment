{
 "cells": [
  {
   "cell_type": "markdown",
   "metadata": {},
   "source": [
    "1. Write a Python Program to Find the Factorial of a Number?\n",
    "2. Write a Python Program to Display the multiplication Table?\n",
    "3. Write a Python Program to Print the Fibonacci sequence?\n",
    "4. Write a Python Program to Check Armstrong Number?\n",
    "5. Write a Python Program to Find Armstrong Number in an Interval?\n",
    "6. Write a Python Program to Find the Sum of Natural Numbers?"
   ]
  },
  {
   "cell_type": "code",
   "execution_count": 17,
   "metadata": {},
   "outputs": [
    {
     "name": "stdout",
     "output_type": "stream",
     "text": [
      "Enter the number to get factorial 0\n",
      "1\n"
     ]
    }
   ],
   "source": [
    "#1\n",
    "number=int(input(\"Enter the number to get factorial \"))\n",
    "count=1\n",
    "if number==0:\n",
    "    print(1)\n",
    "for i in range(1,number+1):\n",
    "    count=count*i\n",
    "    print(count)"
   ]
  },
  {
   "cell_type": "code",
   "execution_count": 12,
   "metadata": {},
   "outputs": [
    {
     "name": "stdout",
     "output_type": "stream",
     "text": [
      "Enter the number for which you want the multiplication table50\n",
      "50 * 1 = 50\n",
      "50 * 2 = 100\n",
      "50 * 3 = 150\n",
      "50 * 4 = 200\n",
      "50 * 5 = 250\n",
      "50 * 6 = 300\n",
      "50 * 7 = 350\n",
      "50 * 8 = 400\n",
      "50 * 9 = 450\n",
      "50 * 10 = 500\n"
     ]
    }
   ],
   "source": [
    "#2.\n",
    "num=int(input(\"Enter the number for which you want the multiplication table\"))\n",
    "for i in range(1,11):\n",
    "    print(num,\"*\",i,\"=\",num*i)\n"
   ]
  },
  {
   "cell_type": "code",
   "execution_count": 19,
   "metadata": {},
   "outputs": [
    {
     "name": "stdout",
     "output_type": "stream",
     "text": [
      "Enter the number to print the fibonacci series 5\n",
      "0 1 1 2 3 "
     ]
    }
   ],
   "source": [
    "#3.\n",
    "number=int(input(\"Enter the number to print the fibonacci series \"))\n",
    "a=0\n",
    "b=1\n",
    "\n",
    "if number<=0:\n",
    "    print(\"requested series is\",a)\n",
    "else:\n",
    "    print(a,b,end=\" \")\n",
    "    for i in range(2,number):\n",
    "        value=a+b\n",
    "        print(value,end=\" \")\n",
    "        a=b\n",
    "        b=value\n",
    "    "
   ]
  },
  {
   "cell_type": "code",
   "execution_count": 45,
   "metadata": {},
   "outputs": [
    {
     "name": "stdout",
     "output_type": "stream",
     "text": [
      "Enter the number for which you want to check whether it is Amstrong or not456\n",
      "Not a Amstrong number\n"
     ]
    }
   ],
   "source": [
    "4.#for three digit ...check for amstrong number\n",
    "number=int(input(\"Enter the number for which you want to check whether it is Amstrong or not\"))\n",
    "num = number%10\n",
    "a=number//10\n",
    "c=a//10\n",
    "d=a%10\n",
    "       \n",
    "sum=(c*c*c)+(d*d*d)+(num*num*num)       \n",
    "\n",
    "if sum==number:\n",
    "    print(\"Number is a Amstrong number\")\n",
    "else:\n",
    "    print(\"Not a Amstrong number\")\n",
    "                "
   ]
  },
  {
   "cell_type": "code",
   "execution_count": 57,
   "metadata": {},
   "outputs": [
    {
     "name": "stdout",
     "output_type": "stream",
     "text": [
      "Enter a number: 153\n",
      "Armstrong!!\n"
     ]
    }
   ],
   "source": [
    "#4..for n number of digit\n",
    "number = int(input('Enter a number: '))\n",
    "original_number =num2=number\n",
    "sum = 0\n",
    "cnt=0\n",
    "\n",
    "while(number>0):\n",
    "    cnt=cnt+1\n",
    "    number=number//10\n",
    "\n",
    "while num2>0:\n",
    "   remainder = num2% 10\n",
    "   sum += remainder ** cnt\n",
    "   num2//= 10\n",
    "\n",
    "\n",
    "if(original_number==sum):\n",
    "    print('Armstrong!!')\n",
    "else:\n",
    "    print('Not Armstrong!')\n"
   ]
  },
  {
   "cell_type": "code",
   "execution_count": 70,
   "metadata": {},
   "outputs": [
    {
     "name": "stdout",
     "output_type": "stream",
     "text": [
      "Enter lower range: 100\n",
      "Enter upper range: 1000\n",
      "153 is a Amstrong number\n",
      "370 is a Amstrong number\n",
      "371 is a Amstrong number\n",
      "407 is a Amstrong number\n"
     ]
    }
   ],
   "source": [
    "#5.\n",
    "lower_value = int(input(\"Enter lower range: \"))  \n",
    "upper_value = int(input(\"Enter upper range: \"))  \n",
    "  \n",
    "for number in range(lower_value,upper_value + 1):\n",
    "   # initialize sum\n",
    "   sum = 0\n",
    " # find the sum of the cube of each digit\n",
    "   temp = number\n",
    "   while temp > 0:\n",
    "       digit = temp % 10\n",
    "       sum += digit ** 3\n",
    "       temp //= 10\n",
    " \n",
    "   if number == sum:\n",
    "       print(\"{} is a Amstrong number\".format(number))"
   ]
  },
  {
   "cell_type": "code",
   "execution_count": 111,
   "metadata": {},
   "outputs": [],
   "source": [
    "#6.\n",
    "def natural_number(*args):\n",
    "    sum=0\n",
    "    for i in args:\n",
    "      if i >=1:\n",
    "        sum=sum+i\n",
    "      else:\n",
    "        print(\"{} is not a natural number\".format(i))\n",
    "    return sum"
   ]
  },
  {
   "cell_type": "code",
   "execution_count": 113,
   "metadata": {},
   "outputs": [
    {
     "name": "stdout",
     "output_type": "stream",
     "text": [
      "0 is not a natural number\n",
      "-1 is not a natural number\n"
     ]
    },
    {
     "data": {
      "text/plain": [
       "14"
      ]
     },
     "execution_count": 113,
     "metadata": {},
     "output_type": "execute_result"
    }
   ],
   "source": [
    "natural_number(0,-1,2,3,4,5)"
   ]
  }
 ],
 "metadata": {
  "kernelspec": {
   "display_name": "Python 3",
   "language": "python",
   "name": "python3"
  },
  "language_info": {
   "codemirror_mode": {
    "name": "ipython",
    "version": 3
   },
   "file_extension": ".py",
   "mimetype": "text/x-python",
   "name": "python",
   "nbconvert_exporter": "python",
   "pygments_lexer": "ipython3",
   "version": "3.8.5"
  }
 },
 "nbformat": 4,
 "nbformat_minor": 4
}
