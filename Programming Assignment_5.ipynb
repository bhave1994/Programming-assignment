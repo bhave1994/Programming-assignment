{
 "cells": [
  {
   "cell_type": "markdown",
   "metadata": {},
   "source": [
    "1. Write a Python Program to Find LCM?\n",
    "2. Write a Python Program to Find HCF?\n",
    "3. Write a Python Program to Convert Decimal to Binary, Octal and Hexadecimal?\n",
    "4. Write a Python Program To Find ASCII value of a character?\n",
    "5. Write a Python Program to Make a Simple Calculator with 4 basic mathematical operations?"
   ]
  },
  {
   "cell_type": "code",
   "execution_count": 28,
   "metadata": {},
   "outputs": [
    {
     "name": "stdout",
     "output_type": "stream",
     "text": [
      "LCM of 0 and 0 is None\n"
     ]
    }
   ],
   "source": [
    "#1\n",
    "import logging as lg\n",
    "lg.basicConfig(filename=\"programming5.txt\",level=lg.INFO,format='%(asctime)s %(message)s')        \n",
    "\n",
    "def HCF(a,b):\n",
    "    \n",
    "    lg.info(\"Started with my program\")    \n",
    "    try:\n",
    "        if a == 0:\n",
    "            return b    \n",
    "        return HCF(b % a, a)\n",
    "    except Exception as e:\n",
    "        lg.error(str(e))\n",
    "        \n",
    "lg.info(\"Finished with my program\")\n",
    "\n",
    "# Function to return LCM of two numbers\n",
    "def LCM(a,b):\n",
    "    try:\n",
    "        return (a / HCF(a,b))* b\n",
    "        lg.error(str(e))       \n",
    "    except Exception as e:\n",
    "        lg.error(str(e))\n",
    "        \n",
    "# Driver program to test above function\n",
    "a = 0\n",
    "b = 0\n",
    "print('LCM of', a, 'and', b, 'is', LCM(a, b))"
   ]
  },
  {
   "cell_type": "code",
   "execution_count": 31,
   "metadata": {},
   "outputs": [
    {
     "name": "stdout",
     "output_type": "stream",
     "text": [
      "HCF of 12 and 15 is 3\n"
     ]
    }
   ],
   "source": [
    "#2\n",
    "import logging as lg\n",
    "lg.basicConfig(filename=\"programming5.txt\",level=lg.INFO,format='%(asctime)s %(message)s')        \n",
    "\n",
    "def HCF(a,b):\n",
    "    \n",
    "    lg.info(\"Started with my program\")    \n",
    "    try:\n",
    "        if a == 0:\n",
    "            return b    \n",
    "        return HCF(b % a, a)\n",
    "    except Exception as e:\n",
    "        print(\"Error occured\")\n",
    "        lg.error(str(e))\n",
    "lg.info(\"Finished with my program\")\n",
    "a=12\n",
    "b=15\n",
    "print(\"HCF of {} and {}\".format(a,b),'is',HCF(a,b))\n"
   ]
  },
  {
   "cell_type": "code",
   "execution_count": 57,
   "metadata": {},
   "outputs": [
    {
     "name": "stderr",
     "output_type": "stream",
     "text": [
      "--- Logging error ---\n",
      "Traceback (most recent call last):\n",
      "  File \"C:\\Users\\bhave1994\\anaconda3\\Anaconda\\lib\\logging\\__init__.py\", line 1081, in emit\n",
      "    msg = self.format(record)\n",
      "  File \"C:\\Users\\bhave1994\\anaconda3\\Anaconda\\lib\\logging\\__init__.py\", line 925, in format\n",
      "    return fmt.format(record)\n",
      "  File \"C:\\Users\\bhave1994\\anaconda3\\Anaconda\\lib\\logging\\__init__.py\", line 664, in format\n",
      "    record.message = record.getMessage()\n",
      "  File \"C:\\Users\\bhave1994\\anaconda3\\Anaconda\\lib\\logging\\__init__.py\", line 369, in getMessage\n",
      "    msg = msg % self.args\n",
      "TypeError: not all arguments converted during string formatting\n",
      "Call stack:\n",
      "  File \"C:\\Users\\bhave1994\\anaconda3\\Anaconda\\lib\\runpy.py\", line 194, in _run_module_as_main\n",
      "    return _run_code(code, main_globals, None,\n",
      "  File \"C:\\Users\\bhave1994\\anaconda3\\Anaconda\\lib\\runpy.py\", line 87, in _run_code\n",
      "    exec(code, run_globals)\n",
      "  File \"C:\\Users\\bhave1994\\anaconda3\\Anaconda\\lib\\site-packages\\ipykernel_launcher.py\", line 16, in <module>\n",
      "    app.launch_new_instance()\n",
      "  File \"C:\\Users\\bhave1994\\anaconda3\\Anaconda\\lib\\site-packages\\traitlets\\config\\application.py\", line 845, in launch_instance\n",
      "    app.start()\n",
      "  File \"C:\\Users\\bhave1994\\anaconda3\\Anaconda\\lib\\site-packages\\ipykernel\\kernelapp.py\", line 612, in start\n",
      "    self.io_loop.start()\n",
      "  File \"C:\\Users\\bhave1994\\anaconda3\\Anaconda\\lib\\site-packages\\tornado\\platform\\asyncio.py\", line 149, in start\n",
      "    self.asyncio_loop.run_forever()\n",
      "  File \"C:\\Users\\bhave1994\\anaconda3\\Anaconda\\lib\\asyncio\\base_events.py\", line 570, in run_forever\n",
      "    self._run_once()\n",
      "  File \"C:\\Users\\bhave1994\\anaconda3\\Anaconda\\lib\\asyncio\\base_events.py\", line 1859, in _run_once\n",
      "    handle._run()\n",
      "  File \"C:\\Users\\bhave1994\\anaconda3\\Anaconda\\lib\\asyncio\\events.py\", line 81, in _run\n",
      "    self._context.run(self._callback, *self._args)\n",
      "  File \"C:\\Users\\bhave1994\\anaconda3\\Anaconda\\lib\\site-packages\\tornado\\ioloop.py\", line 690, in <lambda>\n",
      "    lambda f: self._run_callback(functools.partial(callback, future))\n",
      "  File \"C:\\Users\\bhave1994\\anaconda3\\Anaconda\\lib\\site-packages\\tornado\\ioloop.py\", line 743, in _run_callback\n",
      "    ret = callback()\n",
      "  File \"C:\\Users\\bhave1994\\anaconda3\\Anaconda\\lib\\site-packages\\tornado\\gen.py\", line 787, in inner\n",
      "    self.run()\n",
      "  File \"C:\\Users\\bhave1994\\anaconda3\\Anaconda\\lib\\site-packages\\tornado\\gen.py\", line 748, in run\n",
      "    yielded = self.gen.send(value)\n",
      "  File \"C:\\Users\\bhave1994\\anaconda3\\Anaconda\\lib\\site-packages\\ipykernel\\kernelbase.py\", line 365, in process_one\n",
      "    yield gen.maybe_future(dispatch(*args))\n",
      "  File \"C:\\Users\\bhave1994\\anaconda3\\Anaconda\\lib\\site-packages\\tornado\\gen.py\", line 209, in wrapper\n",
      "    yielded = next(result)\n",
      "  File \"C:\\Users\\bhave1994\\anaconda3\\Anaconda\\lib\\site-packages\\ipykernel\\kernelbase.py\", line 268, in dispatch_shell\n",
      "    yield gen.maybe_future(handler(stream, idents, msg))\n",
      "  File \"C:\\Users\\bhave1994\\anaconda3\\Anaconda\\lib\\site-packages\\tornado\\gen.py\", line 209, in wrapper\n",
      "    yielded = next(result)\n",
      "  File \"C:\\Users\\bhave1994\\anaconda3\\Anaconda\\lib\\site-packages\\ipykernel\\kernelbase.py\", line 543, in execute_request\n",
      "    self.do_execute(\n",
      "  File \"C:\\Users\\bhave1994\\anaconda3\\Anaconda\\lib\\site-packages\\tornado\\gen.py\", line 209, in wrapper\n",
      "    yielded = next(result)\n",
      "  File \"C:\\Users\\bhave1994\\anaconda3\\Anaconda\\lib\\site-packages\\ipykernel\\ipkernel.py\", line 306, in do_execute\n",
      "    res = shell.run_cell(code, store_history=store_history, silent=silent)\n",
      "  File \"C:\\Users\\bhave1994\\anaconda3\\Anaconda\\lib\\site-packages\\ipykernel\\zmqshell.py\", line 536, in run_cell\n",
      "    return super(ZMQInteractiveShell, self).run_cell(*args, **kwargs)\n",
      "  File \"C:\\Users\\bhave1994\\anaconda3\\Anaconda\\lib\\site-packages\\IPython\\core\\interactiveshell.py\", line 2877, in run_cell\n",
      "    result = self._run_cell(\n",
      "  File \"C:\\Users\\bhave1994\\anaconda3\\Anaconda\\lib\\site-packages\\IPython\\core\\interactiveshell.py\", line 2923, in _run_cell\n",
      "    return runner(coro)\n",
      "  File \"C:\\Users\\bhave1994\\anaconda3\\Anaconda\\lib\\site-packages\\IPython\\core\\async_helpers.py\", line 68, in _pseudo_sync_runner\n",
      "    coro.send(None)\n",
      "  File \"C:\\Users\\bhave1994\\anaconda3\\Anaconda\\lib\\site-packages\\IPython\\core\\interactiveshell.py\", line 3146, in run_cell_async\n",
      "    has_raised = await self.run_ast_nodes(code_ast.body, cell_name,\n",
      "  File \"C:\\Users\\bhave1994\\anaconda3\\Anaconda\\lib\\site-packages\\IPython\\core\\interactiveshell.py\", line 3338, in run_ast_nodes\n",
      "    if (await self.run_code(code, result,  async_=asy)):\n",
      "  File \"C:\\Users\\bhave1994\\anaconda3\\Anaconda\\lib\\site-packages\\IPython\\core\\interactiveshell.py\", line 3418, in run_code\n",
      "    exec(code_obj, self.user_global_ns, self.user_ns)\n",
      "  File \"<ipython-input-57-26ee1e575e7a>\", line 16, in <module>\n",
      "    lg.info(\"Program ended\",decimal)\n",
      "Message: 'Program ended'\n",
      "Arguments: (20,)\n"
     ]
    }
   ],
   "source": [
    "#3\n",
    "# Python program to convert decimal into other number systems\n",
    "import logging as lg\n",
    "lg.basicConfig(filename=\"Programming5.txt\",level=lg.INFO,format='%(asctime)s%(message)s')\n",
    "def convert(decimal):\n",
    "    lg.info(\"Started with program by taking decimal value as \",decimal)    \n",
    "    try:\n",
    "        print(\"The decimal value of\", decimal, \"is:\")\n",
    "        print(bin(decimal), \"in binary.\")\n",
    "        print(oct(decimal), \"in octal.\")\n",
    "        print(hex(decimal), \"in hexadecimal.\")\n",
    "    except Exception as e:\n",
    "        lg.error(str(e))\n",
    " \n",
    "decimal=20\n",
    "lg.info(\"Program ended\",decimal)    \n"
   ]
  },
  {
   "cell_type": "code",
   "execution_count": 69,
   "metadata": {},
   "outputs": [
    {
     "name": "stdout",
     "output_type": "stream",
     "text": [
      "Enter the character for which you want the ascii codew\n",
      "The ASCII value of 'w' is 119\n"
     ]
    }
   ],
   "source": [
    "#4\n",
    "import logging as lg\n",
    "def ASCII():\n",
    "    lg.basicConfig(filename=\"Programming5.txt\",Level=lg.info,format='%(asctime)s%(message)s')\n",
    "    try:\n",
    "        c = (input(\"Enter the character for which you want the ascii code\"))\n",
    "        print(\"The ASCII value of '\" + c + \"' is\", ord(c))\n",
    "    except Exception as e:\n",
    "        print(\"Error occured stored in log\")\n",
    "        lg.error(str(e),\"The value is\",c)\n",
    "ASCII()"
   ]
  },
  {
   "cell_type": "code",
   "execution_count": 36,
   "metadata": {},
   "outputs": [
    {
     "name": "stdout",
     "output_type": "stream",
     "text": [
      "Enter the number4\n",
      "Enter the Divider*\n"
     ]
    }
   ],
   "source": [
    "#5\n",
    "import tkinter\n",
    "from tkinter import messagebox\n",
    "from tkinter import *        \n",
    "import logging as lg\n",
    "lg.basicConfig(filename='Programme5.txt',Level=lg.INFO,format='%(asctime)s%(message)s')\n",
    "top = tkinter.Tk()\n",
    "top.geometry(\"400x125\")\n",
    "top.configure(bg='light Grey')\n",
    "top.title(\"Basic Calculator\")\n",
    "def Addition():\n",
    "    try:\n",
    "        a=int(input(\"Enter the number\"))\n",
    "        b=int(input(\"Enter the number\"))\n",
    "        c=a+b\n",
    "        messagebox.showinfo(\"Addition\",\"Addition of two number is {}\".format(c))\n",
    "    except Exception as e:\n",
    "        lg.error(str(e))\n",
    "def Subtraction():\n",
    "    try:\n",
    "        a=int(input(\"Enter the number\"))\n",
    "        b=int(input(\"Enter the number\"))\n",
    "        c=a-b\n",
    "        messagebox.showinfo(\"Subtraction\",\"Subtraction of two number is {}\".format(c))\n",
    "    except Exception as e:\n",
    "        lg.error(str(e))\n",
    "def Division():\n",
    "    try:\n",
    "        a=int(input(\"Enter the number\"))\n",
    "        b=int(input(\"Enter the Divider\"))\n",
    "        c=a/b\n",
    "        messagebox.showinfo(\"Division\",\"Division is {}\".format(c))\n",
    "    except Exception as e:\n",
    "        lg.error(str(e))\n",
    "        \n",
    "def multiplication():\n",
    "    try:\n",
    "        a=int(input(\"Enter the number\"))\n",
    "        b=int(input(\"Enter the Divider\"))\n",
    "        c=a*b\n",
    "        messagebox.showinfo(\"Multiplication\",\"Multiplication is {}\".format(c))\n",
    "    except Exception as e:\n",
    "        lg.error(str(e))\n",
    "        \n",
    "add = tkinter.Button(top, text =\"Addition\", command = Addition)\n",
    "add.pack(side=LEFT, padx=15, pady=20)\n",
    "subtract = tkinter.Button(top, text =\"Subtraction\", command = Subtraction)\n",
    "subtract.pack(side=LEFT, padx=17, pady=20)\n",
    "Division=tkinter.Button(top, text =\"Division\", command = Division)\n",
    "Division.pack(side=LEFT, padx=19, pady=20)\n",
    "Multiplication=tkinter.Button(top, text =\"Multiplication\", command = multiplication)\n",
    "Multiplication.pack(side=LEFT,padx=18,pady=19)\n",
    "                        \n",
    "top.mainloop()"
   ]
  },
  {
   "cell_type": "code",
   "execution_count": null,
   "metadata": {},
   "outputs": [],
   "source": []
  }
 ],
 "metadata": {
  "kernelspec": {
   "display_name": "Python 3",
   "language": "python",
   "name": "python3"
  },
  "language_info": {
   "codemirror_mode": {
    "name": "ipython",
    "version": 3
   },
   "file_extension": ".py",
   "mimetype": "text/x-python",
   "name": "python",
   "nbconvert_exporter": "python",
   "pygments_lexer": "ipython3",
   "version": "3.8.5"
  }
 },
 "nbformat": 4,
 "nbformat_minor": 4
}
