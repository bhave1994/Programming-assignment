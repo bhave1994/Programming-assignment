{
 "cells": [
  {
   "cell_type": "markdown",
   "metadata": {},
   "source": [
    "1. Write a Python Program to Display Fibonacci Sequence Using Recursion?\n",
    "2. Write a Python Program to Find Factorial of Number Using Recursion?\n",
    "3. Write a Python Program to calculate your Body Mass Index?\n",
    "4. Write a Python Program to calculate the natural logarithm of any number?\n",
    "5. Write a Python Program for cube sum of first n natural numbers?"
   ]
  },
  {
   "cell_type": "code",
   "execution_count": 5,
   "metadata": {},
   "outputs": [
    {
     "name": "stdout",
     "output_type": "stream",
     "text": [
      "Enter the number 2\n"
     ]
    },
    {
     "name": "stderr",
     "output_type": "stream",
     "text": [
      "Fibonacci Programme stared\n",
      "Fibonacci Programme stared\n",
      "Fibonacci Programme ended\n"
     ]
    },
    {
     "name": "stdout",
     "output_type": "stream",
     "text": [
      "Fibonacci sequence:\n",
      "0\n",
      "1\n"
     ]
    }
   ],
   "source": [
    "#1\n",
    "import numpy as np\n",
    "import logging\n",
    "logging.basicConfig(filename=\"Programming6.log\",format='%(asctime)s %(message)s',filemode='w')\n",
    "\n",
    "#Creating an object\n",
    "log=logging.getLogger()\n",
    "\n",
    "#Setting the threshold of logger to DEBUG\n",
    "log.setLevel(logging.DEBUG)\n",
    "\n",
    "def recursion_fibonacci(n):\n",
    "    log.info(\"Fibonacci Programme stared\")\n",
    "    \n",
    "    try:\n",
    "        if n <= 1:\n",
    "            return n\n",
    "        else:\n",
    "            return(recursion_fibonacci(n-1) + recursion_fibonacci(n-2))\n",
    "    except Exception as e:\n",
    "        log.error(str(e))\n",
    "try:        \n",
    "        \n",
    "    noterms = int(input(\"Enter the number \"))\n",
    "        \n",
    "# check if the number of terms is valid\n",
    "    if noterms <= 0:\n",
    "        print(\"Plese enter a positive integer\")\n",
    "    else: \n",
    "        print(\"Fibonacci sequence:\")\n",
    "        for i in range(noterms):\n",
    "            print(recursion_fibonacci(i))\n",
    "except Exception as e:\n",
    "    print(\"error occured\")\n",
    "    log.error(str(e))\n",
    "  \n",
    "log.info(\"Fibonacci Programme ended\")    "
   ]
  },
  {
   "cell_type": "code",
   "execution_count": 6,
   "metadata": {},
   "outputs": [
    {
     "name": "stderr",
     "output_type": "stream",
     "text": [
      "main log\n",
      "main log\n",
      "this is from user1 info\n",
      "this is from user1 info\n",
      "This is from user2 debug\n",
      "This is from user2 debug\n"
     ]
    },
    {
     "name": "stdout",
     "output_type": "stream",
     "text": [
      "Enter a number: 2\n",
      "The factorial of 2 is 2\n"
     ]
    }
   ],
   "source": [
    "#2\n",
    "import numpy as np\n",
    "import logging\n",
    "logging.basicConfig(filename=\"Programming6.log\",format='%(asctime)s %(message)s',filemode='w')\n",
    "\n",
    "#Creating an object\n",
    "log=logging.getLogger()\n",
    "\n",
    "#Setting the threshold of logger to DEBUG\n",
    "log.setLevel(logging.DEBUG)\n",
    "\n",
    "# Create handlers\n",
    "console_log = logging.StreamHandler()\n",
    "console_log.setLevel(logging.DEBUG)\n",
    "logging.getLogger('').addHandler(console_log)\n",
    "logging.info('main log')\n",
    "logger1 = logging.getLogger('user1')\n",
    "logger2 = logging.getLogger('user2')\n",
    "logger1.info('this is from user1 info')\n",
    "logger2.debug('This is from user2 debug')    \n",
    "def recursion_factorial(n):  \n",
    "    try:\n",
    "        if n == 1:  \n",
    "            return n  \n",
    "        else:  \n",
    "            return n*recursion_factorial(n-1)  \n",
    "    except Excepion as e:\n",
    "        lg.error(str(e))\n",
    "# take input from the user  \n",
    "try:\n",
    "    num = int(input(\"Enter a number: \"))  \n",
    "    # check is the number is negative  \n",
    "    if num < 0:  \n",
    "        print(\"Sorry, factorial does not exist for negative numbers\")  \n",
    "    elif num == 0:  \n",
    "        print(\"The factorial of 0 is 1\")  \n",
    "    else:  \n",
    "        print(\"The factorial of\",num,\"is\",recursion_factorial(num))  \n",
    "except Exception as e:\n",
    "    logger1.info('this is from user1 info')\n",
    "    logger1.error(str(e))\n",
    "    "
   ]
  },
  {
   "cell_type": "code",
   "execution_count": 7,
   "metadata": {},
   "outputs": [
    {
     "name": "stdout",
     "output_type": "stream",
     "text": [
      "Enter your height in cm 1\n",
      "Enter your weight in kg2\n",
      "Your BMI is 20000.0\n"
     ]
    }
   ],
   "source": [
    "#3.\n",
    "import logging as lg\n",
    "lg.basicConfig(filename=\"Programming6.log\",format='%(asctime)s %(message)s',filemode='w')\n",
    "\n",
    "def BMI():\n",
    "    try:\n",
    "        height=(int(input(\"Enter your height in cm \")))/100\n",
    "        weight=int(input(\"Enter your weight in kg\"))\n",
    "        BMI=(weight)/(height*height)\n",
    "        print(\"Your BMI is {}\".format(BMI))\n",
    "    except Exception as e:\n",
    "        lg.error(str(e))\n",
    "    \n",
    "BMI()"
   ]
  },
  {
   "cell_type": "code",
   "execution_count": 8,
   "metadata": {},
   "outputs": [
    {
     "name": "stdout",
     "output_type": "stream",
     "text": [
      "Enter the number5\n"
     ]
    },
    {
     "name": "stderr",
     "output_type": "stream",
     "text": [
      "done execution\n",
      "done execution\n"
     ]
    },
    {
     "name": "stdout",
     "output_type": "stream",
     "text": [
      "The natural logarithm of 5 is 1.6094379124341003\n"
     ]
    }
   ],
   "source": [
    "#4 \n",
    "import math\n",
    "import logging as lg\n",
    "lg.basicConfig(filename=\"Programming6.log\",format='%(asctime)s %(message)s',filemode='w')\n",
    "def naturalog():\n",
    "    try:\n",
    "        number=int(input(\"Enter the number\"))\n",
    "        natural_log = math.log(number)\n",
    "        print(\"The natural logarithm of {} is\".format(number),natural_log)\n",
    "        lg.info(\"done execution\")\n",
    "    except Exception as e:\n",
    "        lg.error(str(e))\n",
    "naturalog()        "
   ]
  },
  {
   "cell_type": "code",
   "execution_count": 1,
   "metadata": {},
   "outputs": [
    {
     "name": "stdout",
     "output_type": "stream",
     "text": [
      "Enter a number4\n",
      "100\n",
      "None\n"
     ]
    }
   ],
   "source": [
    "#5\n",
    "import math\n",
    "import logging as lg\n",
    "lg.basicConfig(filename=\"Programming6.log\",format='%(asctime)s %(message)s',filemode='w')\n",
    "def cube_sum():\n",
    "    try:\n",
    "        a=int(input(\"Enter a number\"))\n",
    "        b=0\n",
    "        for i in range(1,a+1):\n",
    "            a=i**3+b\n",
    "            b=a\n",
    "        print(a)\n",
    "        lg.INFO(\"We got the cube\")\n",
    "    except Exception as e:\n",
    "        print(lg.error(str(e)))\n",
    "cube_sum()    "
   ]
  }
 ],
 "metadata": {
  "kernelspec": {
   "display_name": "Python 3",
   "language": "python",
   "name": "python3"
  },
  "language_info": {
   "codemirror_mode": {
    "name": "ipython",
    "version": 3
   },
   "file_extension": ".py",
   "mimetype": "text/x-python",
   "name": "python",
   "nbconvert_exporter": "python",
   "pygments_lexer": "ipython3",
   "version": "3.8.5"
  }
 },
 "nbformat": 4,
 "nbformat_minor": 4
}
