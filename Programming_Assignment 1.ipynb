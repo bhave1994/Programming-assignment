{
 "cells": [
  {
   "cell_type": "markdown",
   "metadata": {},
   "source": [
    "# 1. Write a Python program to print &quot;Hello Python&quot;?"
   ]
  },
  {
   "cell_type": "code",
   "execution_count": 4,
   "metadata": {},
   "outputs": [
    {
     "name": "stdout",
     "output_type": "stream",
     "text": [
      "Hello Python\n"
     ]
    }
   ],
   "source": [
    "print(\"Hello Python\")"
   ]
  },
  {
   "cell_type": "markdown",
   "metadata": {},
   "source": [
    "# 2.Write a Python program to do arithmetical operations addition and division.?"
   ]
  },
  {
   "cell_type": "code",
   "execution_count": 6,
   "metadata": {},
   "outputs": [
    {
     "name": "stdout",
     "output_type": "stream",
     "text": [
      "Enter the first number for which you want perform and addition and division operation4\n",
      "Enter the second number for which you want perform and addition and division operation2\n",
      "The addition of two number is 6 and the divison is 2.0\n"
     ]
    }
   ],
   "source": [
    "a=int(input(\"Enter the first number for which you want perform and addition and division operation\"))\n",
    "b=int(input(\"Enter the second number for which you want perform and addition and division operation\"))\n",
    "addition=a+b\n",
    "division=a/b\n",
    "print(\"The addition of two number is\",addition,\"and the divison is\",division)"
   ]
  },
  {
   "cell_type": "markdown",
   "metadata": {},
   "source": [
    "# 3. Write a Python program to find the area of a triangle?\n"
   ]
  },
  {
   "cell_type": "code",
   "execution_count": 9,
   "metadata": {},
   "outputs": [
    {
     "name": "stdout",
     "output_type": "stream",
     "text": [
      "Enter the height to find area of triangle5\n",
      "Enter the base to find the area of triangle5\n",
      "The area of triangle is 12.5\n"
     ]
    }
   ],
   "source": [
    "#Formula of Area of triangle is 1/2*b*h\n",
    "\n",
    "base=int(input(\"Enter the height to find area of triangle\"))\n",
    "height=int(input(\"Enter the base to find the area of triangle\"))\n",
    "\n",
    "Area = 1/2*base*height\n",
    "\n",
    "print(\"The area of triangle is\",Area)\n"
   ]
  },
  {
   "cell_type": "markdown",
   "metadata": {},
   "source": [
    "# 4. Write a Python program to swap two variables?\n"
   ]
  },
  {
   "cell_type": "code",
   "execution_count": 23,
   "metadata": {},
   "outputs": [
    {
     "name": "stdout",
     "output_type": "stream",
     "text": [
      "a and b value before swap 10 15\n",
      "a and b value after swaping 15 10\n"
     ]
    }
   ],
   "source": [
    "a=10\n",
    "b=15\n",
    "print(\"a and b value before swap\",a,b)\n",
    "a,b=b,a\n",
    "print(\"a and b value after swaping\",a,b)"
   ]
  },
  {
   "cell_type": "markdown",
   "metadata": {},
   "source": [
    "# 5. Write a Python program to generate a random number?"
   ]
  },
  {
   "cell_type": "code",
   "execution_count": 12,
   "metadata": {},
   "outputs": [
    {
     "name": "stdout",
     "output_type": "stream",
     "text": [
      "4\n"
     ]
    }
   ],
   "source": [
    "import random\n",
    "print(random.randint(1,20))"
   ]
  }
 ],
 "metadata": {
  "kernelspec": {
   "display_name": "Python 3",
   "language": "python",
   "name": "python3"
  },
  "language_info": {
   "codemirror_mode": {
    "name": "ipython",
    "version": 3
   },
   "file_extension": ".py",
   "mimetype": "text/x-python",
   "name": "python",
   "nbconvert_exporter": "python",
   "pygments_lexer": "ipython3",
   "version": "3.8.5"
  }
 },
 "nbformat": 4,
 "nbformat_minor": 4
}
