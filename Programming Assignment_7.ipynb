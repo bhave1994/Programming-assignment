{
 "cells": [
  {
   "cell_type": "code",
   "execution_count": 30,
   "id": "891aa6d8",
   "metadata": {},
   "outputs": [
    {
     "name": "stdout",
     "output_type": "stream",
     "text": [
      "The Sum of the arr array is 16\n"
     ]
    }
   ],
   "source": [
    "#1. Write a Python Program to find sum of array?\n",
    "import numpy as np\n",
    "arr=np.array([1,3,5,7])\n",
    "sum=0\n",
    "for i in (arr):    \n",
    "    sum=i+sum\n",
    "print(\"The Sum of the arr array is\",sum)"
   ]
  },
  {
   "cell_type": "code",
   "execution_count": 32,
   "id": "e23f3084",
   "metadata": {},
   "outputs": [
    {
     "data": {
      "text/plain": [
       "40"
      ]
     },
     "execution_count": 32,
     "metadata": {},
     "output_type": "execute_result"
    }
   ],
   "source": [
    "# 2. Write a Python Program to find largest element in an array?\n",
    "arr=np.array([1,2,3,40,5])\n",
    "max(arr)\n"
   ]
  },
  {
   "cell_type": "code",
   "execution_count": 56,
   "id": "c568a75f",
   "metadata": {},
   "outputs": [
    {
     "name": "stdout",
     "output_type": "stream",
     "text": [
      "Original array [ 1  2  3 40  5] \n",
      "Rotated array [ 5 40  3  2  1]\n"
     ]
    }
   ],
   "source": [
    "# 3. Write a Python Program for array rotation?\n",
    "original=np.array([1,2,3,40,5])\n",
    "rotated=arr[::-1]\n",
    "\n",
    "print(\"Original array\",original, \"\\n\"\n",
    "\"Rotated array\",rotated)"
   ]
  },
  {
   "cell_type": "code",
   "execution_count": 12,
   "id": "c505c141",
   "metadata": {},
   "outputs": [
    {
     "name": "stdout",
     "output_type": "stream",
     "text": [
      "[ 3 40  5  1  2]\n"
     ]
    }
   ],
   "source": [
    "# 4. Write a Python Program to Split the array and add the first part to the end?\n",
    "import numpy as np\n",
    "\n",
    "Resultant_array1=[]\n",
    "Resultant_array2=[]\n",
    "\n",
    "a=np.array([1,2,3,40,5])\n",
    "\n",
    "b=(len(a)//2)\n",
    "for j in range(b,len(a)):\n",
    "    Resultant_array1.append(a[j])\n",
    "for i in range((b)):\n",
    "    Resultant_array2.append(a[i])\n",
    "final=np.array(Resultant_array1+Resultant_array2)\n",
    "print(final)"
   ]
  },
  {
   "cell_type": "code",
   "execution_count": 92,
   "id": "20f257bb",
   "metadata": {},
   "outputs": [
    {
     "name": "stdout",
     "output_type": "stream",
     "text": [
      "True\n"
     ]
    }
   ],
   "source": [
    "# 5. Write a Python Program to check if given array is Monotonic?\n",
    "\n",
    "\n",
    "def Monotonic(A):\n",
    " \n",
    "    a, b = [], []\n",
    "    a.extend(A)\n",
    "    b.extend(A)\n",
    "    a.sort()\n",
    "    b.sort(reverse=True)\n",
    "    if(a == A or b == A):\n",
    "        return True\n",
    "    return False\n",
    "    # Driver program\n",
    "b = [6, 5, 4, 4]\n",
    "\n",
    "    # Print required result\n",
    "print(isMonotonic(b))\n"
   ]
  },
  {
   "cell_type": "code",
   "execution_count": null,
   "id": "48239554",
   "metadata": {},
   "outputs": [],
   "source": []
  }
 ],
 "metadata": {
  "kernelspec": {
   "display_name": "Python 3 (ipykernel)",
   "language": "python",
   "name": "python3"
  },
  "language_info": {
   "codemirror_mode": {
    "name": "ipython",
    "version": 3
   },
   "file_extension": ".py",
   "mimetype": "text/x-python",
   "name": "python",
   "nbconvert_exporter": "python",
   "pygments_lexer": "ipython3",
   "version": "3.9.7"
  }
 },
 "nbformat": 4,
 "nbformat_minor": 5
}
